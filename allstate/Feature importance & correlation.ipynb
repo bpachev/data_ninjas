{
 "cells": [
  {
   "cell_type": "code",
   "execution_count": 5,
   "metadata": {
    "collapsed": false
   },
   "outputs": [],
   "source": [
    "import numpy as np\n",
    "import pandas as pd\n",
    "from sklearn.ensemble import RandomForestClassifier, ExtraTreesClassifier, AdaBoostClassifier, GradientBoostingClassifier"
   ]
  },
  {
   "cell_type": "code",
   "execution_count": 6,
   "metadata": {
    "collapsed": true
   },
   "outputs": [],
   "source": [
    "train, test = pd.read_csv('data/train.csv'), pd.read_csv('data/test.csv')"
   ]
  },
  {
   "cell_type": "code",
   "execution_count": 7,
   "metadata": {
    "collapsed": false
   },
   "outputs": [],
   "source": [
    "cat_cols = [f for f in train.columns if 'cat' in f]\n",
    "cont_cols = [f for f in test.columns if 'cont' in f]\n",
    "\n",
    "def extract_mat(df, cat, cont):\n",
    "    arrs = []\n",
    "    for col in cont:\n",
    "        arrs.append(np.array(df[col]))    \n",
    "    for col in cat:\n",
    "        arrs.append(pd.get_dummies(df[col]).as_matrix().T)\n",
    "    return np.vstack(arrs).T\n",
    "    "
   ]
  },
  {
   "cell_type": "code",
   "execution_count": 8,
   "metadata": {
    "collapsed": false
   },
   "outputs": [
    {
     "name": "stdout",
     "output_type": "stream",
     "text": [
      "(313864, 132)\n"
     ]
    }
   ],
   "source": [
    "test['loss'] = -1\n",
    "merged = pd.concat([train, test])\n",
    "print merged.shape"
   ]
  },
  {
   "cell_type": "code",
   "execution_count": 21,
   "metadata": {
    "collapsed": false
   },
   "outputs": [
    {
     "name": "stdout",
     "output_type": "stream",
     "text": [
      "[22519, 2242, 2435, 2644, 2870, 3113, 3375, 3659, 3962, 4286, 4637, 5010, 5407, 5833, 6283, 6763, 7270, 7804, 8368, 8957, 9575, 10216, 10882, 11569, 12275, 12995, 13726, 14463, 15203, 15936, 16659, 17363, 18044, 18689, 19297, 19856, 20361, 20803, 21177, 21482, 21705, 21849, 21909, 21886, 21779, 21590, 21321, 20979, 20564, 20086, 19550, 18965, 18334, 17668, 16974, 16258, 15528, 14791, 14052, 13317, 12591, 11881, 11184, 10508, 9856, 9227, 8626, 8050, 7503, 6984, 6491, 6030, 5592, 5183, 4798]\n"
     ]
    }
   ],
   "source": [
    "s = set(train['cont3'])\n",
    "i = [int(10**6*el) for el in s]\n",
    "i = sorted(i)\n",
    "print [i[k]-i[k-1] for k in xrange(1, len(i))]"
   ]
  },
  {
   "cell_type": "code",
   "execution_count": 17,
   "metadata": {
    "collapsed": false
   },
   "outputs": [],
   "source": [
    "from fractions import gcd\n"
   ]
  },
  {
   "cell_type": "code",
   "execution_count": 18,
   "metadata": {
    "collapsed": false
   },
   "outputs": [
    {
     "data": {
      "text/plain": [
       "1"
      ]
     },
     "execution_count": 18,
     "metadata": {},
     "output_type": "execute_result"
    }
   ],
   "source": [
    "gcd(i[0],i[1])"
   ]
  },
  {
   "cell_type": "code",
   "execution_count": 22,
   "metadata": {
    "collapsed": false
   },
   "outputs": [
    {
     "data": {
      "text/plain": [
       "(125546, 188318)"
      ]
     },
     "execution_count": 22,
     "metadata": {},
     "output_type": "execute_result"
    }
   ],
   "source": [
    "ntrain = len(train)\n",
    "ntest = len(test)\n",
    "ntest, ntrain"
   ]
  },
  {
   "cell_type": "code",
   "execution_count": 13,
   "metadata": {
    "collapsed": false
   },
   "outputs": [
    {
     "name": "stdout",
     "output_type": "stream",
     "text": [
      "(313864, 690)\n"
     ]
    }
   ],
   "source": [
    "cats_to_drop = ['cat110', 'cat111', 'cat116'] #categorical variables that have a ridiculous number of possibilities\n",
    "cats = [var for var in cat_cols if var not in cats_to_drop]\n",
    "conts = cont_cols\n",
    "mat = extract_mat(merged, cats, conts)\n",
    "print mat.shape"
   ]
  },
  {
   "cell_type": "code",
   "execution_count": 14,
   "metadata": {
    "collapsed": true
   },
   "outputs": [],
   "source": [
    "import utils"
   ]
  },
  {
   "cell_type": "code",
   "execution_count": 15,
   "metadata": {
    "collapsed": true
   },
   "outputs": [],
   "source": [
    "trainf, testf = mat[:ntrain], mat[ntrain:]\n",
    "trainl = np.array(train['loss'])\n",
    "test_ids = np.array(test['id'])\n",
    "feature_names = conts+cats"
   ]
  },
  {
   "cell_type": "code",
   "execution_count": 21,
   "metadata": {
    "collapsed": false
   },
   "outputs": [
    {
     "data": {
      "text/plain": [
       "(125546, 690)"
      ]
     },
     "execution_count": 21,
     "metadata": {},
     "output_type": "execute_result"
    }
   ],
   "source": [
    "testf.shape"
   ]
  },
  {
   "cell_type": "code",
   "execution_count": 23,
   "metadata": {
    "collapsed": true
   },
   "outputs": [],
   "source": [
    "utils.save_dataset('data/no_big_cats1.npz', trainl, trainf, testf, test_ids, feature_names)"
   ]
  },
  {
   "cell_type": "code",
   "execution_count": 24,
   "metadata": {
    "collapsed": true
   },
   "outputs": [],
   "source": [
    "conts_only = extract_mat(merged, [], conts)\n",
    "trainf, testf = conts_only[:ntrain], conts_only[ntrain:]"
   ]
  },
  {
   "cell_type": "code",
   "execution_count": 25,
   "metadata": {
    "collapsed": true
   },
   "outputs": [],
   "source": [
    "utils.save_dataset('data/conts_only.npz', trainl, trainf, testf, test_ids, conts)"
   ]
  },
  {
   "cell_type": "code",
   "execution_count": 26,
   "metadata": {
    "collapsed": true
   },
   "outputs": [],
   "source": [
    "trf, tl, tf, tid, fn = utils.read_dataset('data/conts_only.npz')"
   ]
  },
  {
   "cell_type": "code",
   "execution_count": 34,
   "metadata": {
    "collapsed": false
   },
   "outputs": [
    {
     "data": {
      "text/plain": [
       "True"
      ]
     },
     "execution_count": 34,
     "metadata": {},
     "output_type": "execute_result"
    }
   ],
   "source": [
    "np.all(fn==np.array(conts))"
   ]
  },
  {
   "cell_type": "code",
   "execution_count": null,
   "metadata": {
    "collapsed": true
   },
   "outputs": [],
   "source": []
  }
 ],
 "metadata": {
  "kernelspec": {
   "display_name": "Python 2",
   "language": "python",
   "name": "python2"
  },
  "language_info": {
   "codemirror_mode": {
    "name": "ipython",
    "version": 2
   },
   "file_extension": ".py",
   "mimetype": "text/x-python",
   "name": "python",
   "nbconvert_exporter": "python",
   "pygments_lexer": "ipython2",
   "version": "2.7.11"
  }
 },
 "nbformat": 4,
 "nbformat_minor": 0
}
